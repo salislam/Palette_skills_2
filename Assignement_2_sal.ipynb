{
  "cells": [
    {
      "cell_type": "markdown",
      "metadata": {
        "id": "pf5SXa1XeBkI"
      },
      "source": [
        "# Assignement 2\n"
      ]
    },
    {
      "cell_type": "markdown",
      "metadata": {
        "id": "txLDhiheeJtw"
      },
      "source": [
        "Please do not change, delete or edit any cells. Write your code in between designated lines.\n",
        "\n"
      ]
    },
    {
      "cell_type": "markdown",
      "metadata": {
        "id": "pVXIH2TLfXYF"
      },
      "source": [
        "## Question 1 (10 points)"
      ]
    },
    {
      "cell_type": "code",
      "execution_count": 1,
      "metadata": {
        "id": "VS-FTxUHfclH"
      },
      "outputs": [
        {
          "name": "stdout",
          "output_type": "stream",
          "text": [
            "A\n",
            "g\n",
            "r\n",
            "i\n",
            "c\n",
            "u\n",
            "l\n",
            "t\n",
            "u\n",
            "r\n",
            "e\n"
          ]
        }
      ],
      "source": [
        "# Can your print the letters of Agriculture by using for loops. Your output will look like this:\n",
        "# A\n",
        "# g\n",
        "# r\n",
        "# i\n",
        "# c\n",
        "# u\n",
        "# l\n",
        "# t\n",
        "# u\n",
        "# r\n",
        "# e\n",
        "\n",
        "## Your code here - down ##\n",
        "agriculture = \"Agriculture\"\n",
        "for i in agriculture:\n",
        "    print(i)\n",
        "## Your code here - up ##\n"
      ]
    },
    {
      "cell_type": "markdown",
      "metadata": {
        "id": "rTT_VIPMefpk"
      },
      "source": [
        "## Question 2 (40 Points)"
      ]
    },
    {
      "cell_type": "code",
      "execution_count": 2,
      "metadata": {
        "id": "dQp85EhveEWB"
      },
      "outputs": [
        {
          "name": "stdout",
          "output_type": "stream",
          "text": [
            "1275\n"
          ]
        }
      ],
      "source": [
        "# Find the sum of numbers from 1 to 50(including) by using for loops.\n",
        "\n",
        "## Your code here - down ##\n",
        "sum = 0\n",
        "for i in range(1,51):\n",
        "    sum += i\n",
        "print(sum)\n",
        "## Your code here - up ##"
      ]
    },
    {
      "cell_type": "markdown",
      "metadata": {
        "id": "gijHHMnjgZPy"
      },
      "source": [
        "## Question 3 (50 points)"
      ]
    },
    {
      "cell_type": "code",
      "execution_count": 4,
      "metadata": {
        "id": "IXBo2RM2gYPR"
      },
      "outputs": [
        {
          "name": "stdout",
          "output_type": "stream",
          "text": [
            "650\n",
            "625\n"
          ]
        }
      ],
      "source": [
        "# Now let's find sum of even and odd numbers from 1 to 50 (including). Are the results same?\n",
        "\n",
        "# Sum of even  numbers\n",
        "\n",
        "## Your code here - down ##\n",
        "even_sum = 0\n",
        "odd_sum = 0\n",
        "for i in range(1,51):\n",
        "    if i%2 == 0:\n",
        "        even_sum += i\n",
        "    else:\n",
        "        odd_sum += i\n",
        "print(even_sum)\n",
        "print(odd_sum)\n",
        "## Your code here - up ##"
      ]
    },
    {
      "cell_type": "code",
      "execution_count": null,
      "metadata": {},
      "outputs": [],
      "source": [
        "No, they the results are not same"
      ]
    },
    {
      "cell_type": "code",
      "execution_count": 5,
      "metadata": {
        "id": "xQh-bx6ohCe-"
      },
      "outputs": [
        {
          "name": "stdout",
          "output_type": "stream",
          "text": [
            "625\n"
          ]
        }
      ],
      "source": [
        "# Sum of odd numbers\n",
        "\n",
        "## Your code here - down ##\n",
        "odd_sum = 0\n",
        "for i in range(1,51):\n",
        "    if i%2 != 0:\n",
        "        odd_sum += i\n",
        "print(odd_sum)\n",
        "## Your code here - up ##"
      ]
    },
    {
      "cell_type": "code",
      "execution_count": 7,
      "metadata": {
        "id": "OeIXVOYThLbA"
      },
      "outputs": [],
      "source": [
        "# In this cell explain the difference.\n",
        "the difference between the sum of even numbers and the sum of odd numbers from 1 to 50 (including) is that the even  numbers are \n",
        "the numbers that are divisible by 2 where, odd numbers are the numbers that are not divisible by 2. when we add all the even numbers, \n",
        "we get 650 and when we add all the odd numbers, we get 625. The difference between the two is 25 \n",
        "because even numbers and odd numbers have different values.\n"
      ]
    }
  ],
  "metadata": {
    "colab": {
      "provenance": []
    },
    "kernelspec": {
      "display_name": "Python 3",
      "language": "python",
      "name": "python3"
    },
    "language_info": {
      "codemirror_mode": {
        "name": "ipython",
        "version": 3
      },
      "file_extension": ".py",
      "mimetype": "text/x-python",
      "name": "python",
      "nbconvert_exporter": "python",
      "pygments_lexer": "ipython3",
      "version": "3.9.6 (default, Oct 18 2022, 12:41:40) \n[Clang 14.0.0 (clang-1400.0.29.202)]"
    },
    "vscode": {
      "interpreter": {
        "hash": "31f2aee4e71d21fbe5cf8b01ff0e069b9275f58929596ceb00d14d90e3e16cd6"
      }
    }
  },
  "nbformat": 4,
  "nbformat_minor": 0
}
